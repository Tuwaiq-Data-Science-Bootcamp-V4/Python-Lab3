{
 "cells": [
  {
   "cell_type": "markdown",
   "id": "e02377ff",
   "metadata": {},
   "source": [
    "# Python-Lab3"
   ]
  },
  {
   "cell_type": "markdown",
   "id": "a16077da",
   "metadata": {},
   "source": [
    "### 1- For loop using Range()"
   ]
  },
  {
   "cell_type": "code",
   "execution_count": 36,
   "id": "d4a44c1d",
   "metadata": {},
   "outputs": [],
   "source": [
    "\n",
    "for i in range(45, 210):\n",
    "    if i == 100 :\n",
    "        continue\n",
    "    elif i == 205:\n",
    "        break\n",
    "    print(i)"
   ]
  },
  {
   "cell_type": "markdown",
   "id": "07a56f3f",
   "metadata": {},
   "source": [
    "### 2-While loop with input"
   ]
  },
  {
   "cell_type": "code",
   "execution_count": null,
   "id": "01d2d153",
   "metadata": {},
   "outputs": [],
   "source": [
    "while True:\n",
    "    answer = int(input(\"what is the product of 7 * 24 ? \"))\n",
    "    if answer == 7*24:\n",
    "        break\n",
    "    else:\n",
    "        print(\"Your Answer is wrong try again..\")\n",
    "        \n",
    "print(\"You answered this Question correctly\") "
   ]
  },
  {
   "cell_type": "code",
   "execution_count": null,
   "id": "6fe2abea",
   "metadata": {},
   "outputs": [],
   "source": []
  }
 ],
 "metadata": {
  "kernelspec": {
   "display_name": "Python 3 (ipykernel)",
   "language": "python",
   "name": "python3"
  },
  "language_info": {
   "codemirror_mode": {
    "name": "ipython",
    "version": 3
   },
   "file_extension": ".py",
   "mimetype": "text/x-python",
   "name": "python",
   "nbconvert_exporter": "python",
   "pygments_lexer": "ipython3",
   "version": "3.9.12"
  }
 },
 "nbformat": 4,
 "nbformat_minor": 5
}
